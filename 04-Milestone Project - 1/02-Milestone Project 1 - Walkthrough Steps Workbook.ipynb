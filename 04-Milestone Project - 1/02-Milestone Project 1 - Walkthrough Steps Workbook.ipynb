{
 "cells": [
  {
   "cell_type": "code",
   "execution_count": 2,
   "metadata": {},
   "outputs": [],
   "source": [
    "___\n",
    "\n",
    "<a href='https://www.udemy.com/user/joseportilla/'><img src='../Pierian_Data_Logo.png'/></a>\n",
    "___\n",
    "<center><em>Content Copyright by Pierian Data</em></center>"
   ]
  },
  {
   "cell_type": "markdown",
   "metadata": {},
   "source": [
    "# Milestone Project 1: Walkthrough Steps Workbook\n",
    "\n",
    "# Below is a set of steps for you to follow to try to create the Tic Tac Toe Milestone Project game!"
   ]
  },
  {
   "cell_type": "markdown",
   "metadata": {},
   "source": [
    "#### Some suggested tools before you get started:\n",
    "To take input from a user:\n",
    "\n",
    "    player1 = input(\"Please pick a marker 'X' or 'O'\")\n",
    "    \n",
    "Note that input() takes in a string. If you need an integer value, use\n",
    "\n",
    "    position = int(input('Please enter a number'))\n",
    "    \n",
    "<br>To clear the screen between moves:\n",
    "\n",
    "    from IPython.display import clear_output\n",
    "    clear_output()\n",
    "    \n",
    "Note that clear_output() will only work in jupyter. To clear the screen in other IDEs, consider:\n",
    "\n",
    "    print('\\n'*100)\n",
    "    \n",
    "This scrolls the previous board up out of view. Now on to the program!"
   ]
  },
  {
   "cell_type": "markdown",
   "metadata": {},
   "source": [
    "**Step 1: Write a function that can print out a board. Set up your board as a list, where each index 1-9 corresponds with a number on a number pad, so you get a 3 by 3 board representation.**"
   ]
  },
  {
   "cell_type": "code",
   "execution_count": 3,
   "metadata": {},
   "outputs": [],
   "source": [
    "from IPython.display import clear_output\n",
    "\n",
    "def display_board(board):\n",
    "    for i in range(1, len(board), 3):\n",
    "        print(f\"{board[i]}  {board[i+1]}  {board[i+2]}  \")\n",
    "        "
   ]
  },
  {
   "cell_type": "markdown",
   "metadata": {},
   "source": [
    "**TEST Step 1:** run your function on a test version of the board list, and make adjustments as necessary"
   ]
  },
  {
   "cell_type": "code",
   "execution_count": 4,
   "metadata": {},
   "outputs": [
    {
     "name": "stdout",
     "output_type": "stream",
     "text": [
      "X  O  X  \n",
      "O  X  O  \n",
      "X  O  X  \n"
     ]
    }
   ],
   "source": [
    "test_board = ['#','X','O','X','O','X','O','X','O','X']\n",
    "display_board(test_board)"
   ]
  },
  {
   "cell_type": "markdown",
   "metadata": {},
   "source": [
    "**Step 2: Write a function that can take in a player input and assign their marker as 'X' or 'O'. Think about using *while* loops to continually ask until you get a correct answer.**"
   ]
  },
  {
   "cell_type": "code",
   "execution_count": 5,
   "metadata": {},
   "outputs": [],
   "source": [
    "def player_input():\n",
    "    choice = '0'\n",
    "    while(choice.lower() == '0'):\n",
    "        choice = input(\"Player 1 please choose 'X' or 'O'\")\n",
    "        if(choice.lower() == 'x' or choice.lower() == 'o'):\n",
    "            choice = choice.upper()\n",
    "            break\n",
    "        else:\n",
    "            choice = '0'\n",
    "            \n",
    "    return choice"
   ]
  },
  {
   "cell_type": "markdown",
   "metadata": {},
   "source": [
    "**TEST Step 2:** run the function to make sure it returns the desired output"
   ]
  },
  {
   "cell_type": "code",
   "execution_count": 6,
   "metadata": {},
   "outputs": [
    {
     "name": "stdout",
     "output_type": "stream",
     "text": [
      "Player 1 please choose 'X' or 'O'\n",
      "Player 1 please choose 'X' or 'O'\n",
      "Player 1 please choose 'X' or 'O'\n",
      "Player 1 please choose 'X' or 'O'x\n"
     ]
    },
    {
     "data": {
      "text/plain": [
       "'X'"
      ]
     },
     "execution_count": 6,
     "metadata": {},
     "output_type": "execute_result"
    }
   ],
   "source": [
    "player_input()"
   ]
  },
  {
   "cell_type": "markdown",
   "metadata": {},
   "source": [
    "**Step 3: Write a function that takes in the board list object, a marker ('X' or 'O'), and a desired position (number 1-9) and assigns it to the board.**"
   ]
  },
  {
   "cell_type": "code",
   "execution_count": 7,
   "metadata": {},
   "outputs": [],
   "source": [
    "def place_marker(board, marker, position):\n",
    "    board[position] = marker\n",
    "    "
   ]
  },
  {
   "cell_type": "markdown",
   "metadata": {},
   "source": [
    "**TEST Step 3:** run the place marker function using test parameters and display the modified board"
   ]
  },
  {
   "cell_type": "code",
   "execution_count": 8,
   "metadata": {},
   "outputs": [
    {
     "name": "stdout",
     "output_type": "stream",
     "text": [
      "$  O  X  \n",
      "O  X  O  \n",
      "X  O  X  \n"
     ]
    }
   ],
   "source": [
    "place_marker(test_board,'$',1)\n",
    "display_board(test_board)"
   ]
  },
  {
   "cell_type": "markdown",
   "metadata": {},
   "source": [
    "**Step 4: Write a function that takes in a board and a mark (X or O) and then checks to see if that mark has won. **"
   ]
  },
  {
   "cell_type": "code",
   "execution_count": 9,
   "metadata": {},
   "outputs": [],
   "source": [
    "def win_check(board, mark):\n",
    "    if board[1] == board[2] == board[3] == mark:\n",
    "        return True\n",
    "    if board[1] == board[5] == board[9] == mark:\n",
    "        return True\n",
    "    if board[1] == board[4] == board[7] == mark:\n",
    "        return True\n",
    "    if board[2] == board[5] == board[8] == mark:\n",
    "        return True\n",
    "    if board[3] == board[5] == board[7] == mark:\n",
    "        return True\n",
    "    if board[3] == board[6] == board[9] == mark:\n",
    "        return True\n",
    "    if board[4] == board[5] == board[6] == mark:\n",
    "        return True\n",
    "    if board[7] == board[8] == board[9] == mark:\n",
    "        return True\n",
    "    \n",
    "    return False\n"
   ]
  },
  {
   "cell_type": "markdown",
   "metadata": {},
   "source": [
    "**TEST Step 4:** run the win_check function against our test_board - it should return True"
   ]
  },
  {
   "cell_type": "code",
   "execution_count": 10,
   "metadata": {},
   "outputs": [
    {
     "data": {
      "text/plain": [
       "True"
      ]
     },
     "execution_count": 10,
     "metadata": {},
     "output_type": "execute_result"
    }
   ],
   "source": [
    "win_check(test_board,'X')"
   ]
  },
  {
   "cell_type": "markdown",
   "metadata": {},
   "source": [
    "**Step 5: Write a function that uses the random module to randomly decide which player goes first. You may want to lookup random.randint() Return a string of which player went first.**"
   ]
  },
  {
   "cell_type": "code",
   "execution_count": 11,
   "metadata": {},
   "outputs": [
    {
     "name": "stdout",
     "output_type": "stream",
     "text": [
      "Player 2 goes first\n"
     ]
    },
    {
     "data": {
      "text/plain": [
       "2"
      ]
     },
     "execution_count": 11,
     "metadata": {},
     "output_type": "execute_result"
    }
   ],
   "source": [
    "import random\n",
    "\n",
    "def choose_first():\n",
    "    first = random.randint(1,2)\n",
    "    print(f\"Player {first} goes first\")\n",
    "    return first\n",
    "\n",
    "choose_first()"
   ]
  },
  {
   "cell_type": "markdown",
   "metadata": {},
   "source": [
    "**Step 6: Write a function that returns a boolean indicating whether a space on the board is freely available.**"
   ]
  },
  {
   "cell_type": "code",
   "execution_count": 19,
   "metadata": {},
   "outputs": [],
   "source": [
    "def space_check(board, position):\n",
    "#     print(position)\n",
    "    if position == 0:\n",
    "        return False\n",
    "    if board[position] == 'X' or board[position] == 'O':\n",
    "        return False\n",
    "    \n",
    "    return True\n",
    "    "
   ]
  },
  {
   "cell_type": "markdown",
   "metadata": {},
   "source": [
    "**Step 7: Write a function that checks if the board is full and returns a boolean value. True if full, False otherwise.**"
   ]
  },
  {
   "cell_type": "code",
   "execution_count": 13,
   "metadata": {},
   "outputs": [],
   "source": [
    "def full_board_check(board):\n",
    "    for i in range(1, len(board)):\n",
    "        if space_check(board, i):\n",
    "            return False\n",
    "        \n",
    "    return True\n"
   ]
  },
  {
   "cell_type": "markdown",
   "metadata": {},
   "source": [
    "**Step 8: Write a function that asks for a player's next position (as a number 1-9) and then uses the function from step 6 to check if it's a free position. If it is, then return the position for later use.**"
   ]
  },
  {
   "cell_type": "code",
   "execution_count": 14,
   "metadata": {},
   "outputs": [],
   "source": [
    "def player_choice(board):\n",
    "    choice = 0\n",
    "    while(choice == 0):\n",
    "        choice = int(input(\"Enter your next move (1-9): \"))\n",
    "        if not (1 <= choice <= 9):\n",
    "            choice = 0\n",
    "            continue\n",
    "        \n",
    "        if space_check(board, choice):\n",
    "            break\n",
    "        \n",
    "        else:\n",
    "            print(\"Position already taken\")\n",
    "            choice = 0\n",
    "            continue\n",
    "  \n",
    "#     print choice        \n",
    "    return choice\n"
   ]
  },
  {
   "cell_type": "markdown",
   "metadata": {},
   "source": [
    "**Step 9: Write a function that asks the player if they want to play again and returns a boolean True if they do want to play again.**"
   ]
  },
  {
   "cell_type": "code",
   "execution_count": 15,
   "metadata": {},
   "outputs": [],
   "source": [
    "def replay():\n",
    "    choice = input(\"Would you like to play again? (y/n)\")\n",
    "    if choice.lower() == 'y':\n",
    "        return True\n",
    "    else:\n",
    "        return False\n",
    "\n",
    "def play():\n",
    "    choice = input(\"Would you like to play? (y/n)\")\n",
    "    if choice.lower() == 'y':\n",
    "        return True\n",
    "    else:\n",
    "        return False"
   ]
  },
  {
   "cell_type": "code",
   "execution_count": 16,
   "metadata": {},
   "outputs": [
    {
     "data": {
      "text/plain": [
       "False"
      ]
     },
     "execution_count": 16,
     "metadata": {},
     "output_type": "execute_result"
    }
   ],
   "source": [
    "'1' == '2'"
   ]
  },
  {
   "cell_type": "markdown",
   "metadata": {
    "collapsed": true
   },
   "source": [
    "**Step 10: Here comes the hard part! Use while loops and the functions you've made to run the game!**"
   ]
  },
  {
   "cell_type": "code",
   "execution_count": 22,
   "metadata": {},
   "outputs": [
    {
     "name": "stdout",
     "output_type": "stream",
     "text": [
      "Welcome to Tic Tac Toe!\n",
      "Would you like to play? (y/n)y\n",
      "Player 1 please choose 'X' or 'O'x\n",
      "Player 2 goes first\n",
      "1  2  3  \n",
      "4  5  6  \n",
      "7  8  9  \n",
      "Player 2's turn:\n",
      "Enter your next move (1-9): 1\n",
      "O  2  3  \n",
      "4  5  6  \n",
      "7  8  9  \n",
      "Player 1's turn:\n",
      "Enter your next move (1-9): 4\n",
      "O  2  3  \n",
      "X  5  6  \n",
      "7  8  9  \n",
      "Player 2's turn:\n",
      "Enter your next move (1-9): 5\n",
      "O  2  3  \n",
      "X  O  6  \n",
      "7  8  9  \n",
      "Player 1's turn:\n",
      "Enter your next move (1-9): 9\n",
      "O  2  3  \n",
      "X  O  6  \n",
      "7  8  X  \n",
      "Player 2's turn:\n",
      "Enter your next move (1-9): 6\n",
      "O  2  3  \n",
      "X  O  O  \n",
      "7  8  X  \n",
      "Player 1's turn:\n",
      "Enter your next move (1-9): 3\n",
      "O  2  X  \n",
      "X  O  O  \n",
      "7  8  X  \n",
      "Player 2's turn:\n",
      "Enter your next move (1-9): 7\n",
      "O  2  X  \n",
      "X  O  O  \n",
      "O  8  X  \n",
      "Player 1's turn:\n",
      "Enter your next move (1-9): 8\n",
      "O  2  X  \n",
      "X  O  O  \n",
      "O  X  X  \n",
      "Player 2's turn:\n",
      "Enter your next move (1-9): 2\n",
      "O  O  X  \n",
      "X  O  O  \n",
      "O  X  X  \n",
      "TIE! Nobody wins\n",
      "Would you like to play again? (y/n)y\n",
      "Would you like to play? (y/n)n\n"
     ]
    }
   ],
   "source": [
    "print('Welcome to Tic Tac Toe!')\n",
    "\n",
    "game_on = play()\n",
    "\n",
    "while True:\n",
    "    # Set the game up here\n",
    "    \n",
    "    if not game_on:\n",
    "        break\n",
    "    \n",
    "#  choose x or o\n",
    "    p1 = player_input()\n",
    "    p2 = ''\n",
    "    \n",
    "    if p1 == 'X':\n",
    "        p2 = 'O'\n",
    "    else:\n",
    "        p2 = 'X'\n",
    "#     print(p1)\n",
    "#     print(p2)\n",
    "\n",
    "\n",
    "#     choose who goes first\n",
    "    first = choose_first()\n",
    "    second = ''\n",
    "    if first == 1:\n",
    "        second = 2\n",
    "    else:\n",
    "        px = p1\n",
    "        p1 = p2\n",
    "        p2 = px\n",
    "        second = 1\n",
    "        \n",
    "#     print(first)\n",
    "#     print(second)\n",
    "    board = ['#','1','2','3','4','5','6','7','8','9']\n",
    "    display_board(board)\n",
    "\n",
    "\n",
    "\n",
    "    while game_on:\n",
    "        #Player 1 Turn\n",
    "        print(f\"Player {first}'s turn:\")\n",
    "        choice = player_choice(board)\n",
    "        place_marker(board,p1,choice)\n",
    "        display_board(board)\n",
    "        \n",
    "        if win_check(board,p1):\n",
    "            print(f\"Player {first} wins!\")\n",
    "            break\n",
    "            \n",
    "        if full_board_check(board):\n",
    "            print(f\"TIE! Nobody wins\")\n",
    "            break\n",
    "\n",
    "        # Player2's turn.\n",
    "        print(f\"Player {second}'s turn:\")\n",
    "        place_marker(board,p2,player_choice(board))\n",
    "        display_board(board)\n",
    "        \n",
    "        if win_check(board,p2):\n",
    "            print(f\"Player {second} wins!\")\n",
    "            break\n",
    "\n",
    "    if not replay():\n",
    "        break"
   ]
  },
  {
   "cell_type": "markdown",
   "metadata": {
    "collapsed": true
   },
   "source": [
    "## Good Job!"
   ]
  }
 ],
 "metadata": {
  "kernelspec": {
   "display_name": "Python 3",
   "language": "python",
   "name": "python3"
  },
  "language_info": {
   "codemirror_mode": {
    "name": "ipython",
    "version": 3
   },
   "file_extension": ".py",
   "mimetype": "text/x-python",
   "name": "python",
   "nbconvert_exporter": "python",
   "pygments_lexer": "ipython3",
   "version": "3.7.6"
  }
 },
 "nbformat": 4,
 "nbformat_minor": 1
}
